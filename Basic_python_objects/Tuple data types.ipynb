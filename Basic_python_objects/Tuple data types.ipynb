{
 "cells": [
  {
   "cell_type": "code",
   "execution_count": 1,
   "id": "5af0f491",
   "metadata": {},
   "outputs": [],
   "source": [
    "                                                       #Demet(Tuple)"
   ]
  },
  {
   "cell_type": "code",
   "execution_count": 19,
   "id": "c84b5b63",
   "metadata": {},
   "outputs": [
    {
     "data": {
      "text/plain": [
       "(1, 2, 3, 4, 5, 6)"
      ]
     },
     "execution_count": 19,
     "metadata": {},
     "output_type": "execute_result"
    }
   ],
   "source": [
    "tuple = (1,2,3,4,5,6) #demetlerin tanımlanma şekli. \n",
    "tuple #demetler değiştirilemez."
   ]
  },
  {
   "cell_type": "code",
   "execution_count": 20,
   "id": "fd230e04",
   "metadata": {},
   "outputs": [
    {
     "data": {
      "text/plain": [
       "(1,)"
      ]
     },
     "execution_count": 20,
     "metadata": {},
     "output_type": "execute_result"
    }
   ],
   "source": [
    "tuple1 = (1,) #tek elemanlı bir demet bu şekilde tanımlanabilir.\n",
    "tuple1"
   ]
  },
  {
   "cell_type": "code",
   "execution_count": 21,
   "id": "f8a19b1a",
   "metadata": {},
   "outputs": [
    {
     "data": {
      "text/plain": [
       "2"
      ]
     },
     "execution_count": 21,
     "metadata": {},
     "output_type": "execute_result"
    }
   ],
   "source": [
    "tuple = (1,2,3,4) #demetlerin belli bir elemanını yazdırmak.\n",
    "tuple[1]"
   ]
  },
  {
   "cell_type": "code",
   "execution_count": 22,
   "id": "20d4a59f",
   "metadata": {},
   "outputs": [],
   "source": [
    "                                               #Demetlerin temel metodları"
   ]
  },
  {
   "cell_type": "code",
   "execution_count": 23,
   "id": "a190af58",
   "metadata": {},
   "outputs": [
    {
     "data": {
      "text/plain": [
       "5"
      ]
     },
     "execution_count": 23,
     "metadata": {},
     "output_type": "execute_result"
    }
   ],
   "source": [
    "tuple = (1,2,3,4,5,6,7,8)\n",
    "tuple.index(6) #bu metod içine koyulan elemanın kaçıncı indexte olduğunu söyler."
   ]
  },
  {
   "cell_type": "code",
   "execution_count": 24,
   "id": "61c60b44",
   "metadata": {},
   "outputs": [
    {
     "data": {
      "text/plain": [
       "3"
      ]
     },
     "execution_count": 24,
     "metadata": {},
     "output_type": "execute_result"
    }
   ],
   "source": [
    "tuple = (1,23,34,34,2,1,4,5,1,1,34)\n",
    "tuple.count(34) #bu metod içine koyulan sayının demette kaç defa geçtiğini söyler."
   ]
  }
 ],
 "metadata": {
  "kernelspec": {
   "display_name": "Python 3 (ipykernel)",
   "language": "python",
   "name": "python3"
  },
  "language_info": {
   "codemirror_mode": {
    "name": "ipython",
    "version": 3
   },
   "file_extension": ".py",
   "mimetype": "text/x-python",
   "name": "python",
   "nbconvert_exporter": "python",
   "pygments_lexer": "ipython3",
   "version": "3.9.7"
  }
 },
 "nbformat": 4,
 "nbformat_minor": 5
}
