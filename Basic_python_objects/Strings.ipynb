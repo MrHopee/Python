{
 "cells": [
  {
   "cell_type": "code",
   "execution_count": 1,
   "id": "01d9e61e",
   "metadata": {},
   "outputs": [],
   "source": [
    "#STRING CREATING METHODS"
   ]
  },
  {
   "cell_type": "code",
   "execution_count": 7,
   "id": "8c53a59e",
   "metadata": {},
   "outputs": [
    {
     "data": {
      "text/plain": [
       "'Hello'"
      ]
     },
     "execution_count": 7,
     "metadata": {},
     "output_type": "execute_result"
    }
   ],
   "source": [
    "'Hello'"
   ]
  },
  {
   "cell_type": "code",
   "execution_count": 8,
   "id": "fd67acb5",
   "metadata": {},
   "outputs": [
    {
     "data": {
      "text/plain": [
       "'Hello'"
      ]
     },
     "execution_count": 8,
     "metadata": {},
     "output_type": "execute_result"
    }
   ],
   "source": [
    "\"Hello\""
   ]
  },
  {
   "cell_type": "code",
   "execution_count": 9,
   "id": "476ee85c",
   "metadata": {},
   "outputs": [
    {
     "data": {
      "text/plain": [
       "'Hello'"
      ]
     },
     "execution_count": 9,
     "metadata": {},
     "output_type": "execute_result"
    }
   ],
   "source": [
    "\"\"\"Hello\"\"\""
   ]
  },
  {
   "cell_type": "code",
   "execution_count": 11,
   "id": "8eb7aa43",
   "metadata": {},
   "outputs": [
    {
     "ename": "SyntaxError",
     "evalue": "EOL while scanning string literal (Temp/ipykernel_17224/2702301065.py, line 1)",
     "output_type": "error",
     "traceback": [
      "\u001b[1;36m  File \u001b[1;32m\"C:\\Users\\umutc\\AppData\\Local\\Temp/ipykernel_17224/2702301065.py\"\u001b[1;36m, line \u001b[1;32m1\u001b[0m\n\u001b[1;33m    \"Hello' #hatalı kullanım\u001b[0m\n\u001b[1;37m                            ^\u001b[0m\n\u001b[1;31mSyntaxError\u001b[0m\u001b[1;31m:\u001b[0m EOL while scanning string literal\n"
     ]
    }
   ],
   "source": [
    "\"Hello' #hatalı kullanım"
   ]
  },
  {
   "cell_type": "code",
   "execution_count": 13,
   "id": "fd5ded9d",
   "metadata": {},
   "outputs": [
    {
     "data": {
      "text/plain": [
       "\"umut'un canı acıyor\""
      ]
     },
     "execution_count": 13,
     "metadata": {},
     "output_type": "execute_result"
    }
   ],
   "source": [
    "'umut\\'un canı acıyor'  # \\ işareti oradaki tek tırnağı operatör olarak değil ayırma işareti oalrak kullanmamızı sağladı."
   ]
  },
  {
   "cell_type": "code",
   "execution_count": 14,
   "id": "592eb4fc",
   "metadata": {},
   "outputs": [
    {
     "data": {
      "text/plain": [
       "'Hello'"
      ]
     },
     "execution_count": 14,
     "metadata": {},
     "output_type": "execute_result"
    }
   ],
   "source": [
    "a = \"Hello\"\n",
    "a"
   ]
  },
  {
   "cell_type": "code",
   "execution_count": 17,
   "id": "9dfe0bb2",
   "metadata": {},
   "outputs": [
    {
     "data": {
      "text/plain": [
       "'H'"
      ]
     },
     "execution_count": 17,
     "metadata": {},
     "output_type": "execute_result"
    }
   ],
   "source": [
    "a = \"Hello\" # a yı bir array olarak tanımladık ve 0. elemanını yazdırmasını istedik.\n",
    "a[0]   "
   ]
  },
  {
   "cell_type": "code",
   "execution_count": 22,
   "id": "7df37aa5",
   "metadata": {},
   "outputs": [
    {
     "data": {
      "text/plain": [
       "'ello'"
      ]
     },
     "execution_count": 22,
     "metadata": {},
     "output_type": "execute_result"
    }
   ],
   "source": [
    "a = \"Hello how are you?\" \n",
    "a[1:5]  #1. indexten 5. indexe kadar yazdır (5. index dahil değil)."
   ]
  },
  {
   "cell_type": "code",
   "execution_count": 25,
   "id": "0c6a1470",
   "metadata": {},
   "outputs": [
    {
     "data": {
      "text/plain": [
       "'Hello how are you'"
      ]
     },
     "execution_count": 25,
     "metadata": {},
     "output_type": "execute_result"
    }
   ],
   "source": [
    "a = \"Hello how are you?\" \n",
    "a[:-1]  #en baştan başlayarak sondan 1. harfe kadar yazdır."
   ]
  },
  {
   "cell_type": "code",
   "execution_count": 26,
   "id": "c2d5129f",
   "metadata": {},
   "outputs": [
    {
     "data": {
      "text/plain": [
       "'el'"
      ]
     },
     "execution_count": 26,
     "metadata": {},
     "output_type": "execute_result"
    }
   ],
   "source": [
    "a = \"Hello how are you?\" \n",
    "a[1:5:2] #1. indexten 5. indexe kadar 1 er harf atlayarak yazdır."
   ]
  },
  {
   "cell_type": "code",
   "execution_count": 27,
   "id": "73074cfc",
   "metadata": {},
   "outputs": [
    {
     "data": {
      "text/plain": [
       "18"
      ]
     },
     "execution_count": 27,
     "metadata": {},
     "output_type": "execute_result"
    }
   ],
   "source": [
    "a = \"Hello how are you?\" \n",
    "len(a) #stringin uzunluğunu bulmak için kullanılır."
   ]
  },
  {
   "cell_type": "code",
   "execution_count": 19,
   "id": "0ff2fb82",
   "metadata": {},
   "outputs": [
    {
     "data": {
      "text/plain": [
       "'Hello how are you?'"
      ]
     },
     "execution_count": 19,
     "metadata": {},
     "output_type": "execute_result"
    }
   ],
   "source": [
    "a = \"Hello \"\n",
    "b = \"how \"\n",
    "c = \"are \"\n",
    "d = \"you?\"\n",
    "a + b + c + d #stringler eklenerek kullanılabilir."
   ]
  },
  {
   "cell_type": "code",
   "execution_count": 29,
   "id": "fd0c1d80",
   "metadata": {},
   "outputs": [
    {
     "data": {
      "text/plain": [
       "'umut çakır'"
      ]
     },
     "execution_count": 29,
     "metadata": {},
     "output_type": "execute_result"
    }
   ],
   "source": [
    "a = \"umut \"\n",
    "a + \"çakır\""
   ]
  },
  {
   "cell_type": "code",
   "execution_count": 31,
   "id": "dda8780e",
   "metadata": {},
   "outputs": [
    {
     "data": {
      "text/plain": [
       "'umut umut umut '"
      ]
     },
     "execution_count": 31,
     "metadata": {},
     "output_type": "execute_result"
    }
   ],
   "source": [
    "a = \"umut \"\n",
    "a * 3"
   ]
  }
 ],
 "metadata": {
  "kernelspec": {
   "display_name": "Python 3 (ipykernel)",
   "language": "python",
   "name": "python3"
  },
  "language_info": {
   "codemirror_mode": {
    "name": "ipython",
    "version": 3
   },
   "file_extension": ".py",
   "mimetype": "text/x-python",
   "name": "python",
   "nbconvert_exporter": "python",
   "pygments_lexer": "ipython3",
   "version": "3.9.7"
  }
 },
 "nbformat": 4,
 "nbformat_minor": 5
}
