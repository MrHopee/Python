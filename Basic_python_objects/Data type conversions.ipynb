{
 "cells": [
  {
   "cell_type": "code",
   "execution_count": 3,
   "id": "c30a6d05",
   "metadata": {},
   "outputs": [],
   "source": [
    "#INTEGER TO FLOAT"
   ]
  },
  {
   "cell_type": "code",
   "execution_count": 4,
   "id": "bcaf1767",
   "metadata": {},
   "outputs": [
    {
     "data": {
      "text/plain": [
       "15.0"
      ]
     },
     "execution_count": 4,
     "metadata": {},
     "output_type": "execute_result"
    }
   ],
   "source": [
    "a = 15  #çevirmek istediğimiz sayıyı parantez içine yazıyoruz\n",
    "float(a)"
   ]
  },
  {
   "cell_type": "code",
   "execution_count": 5,
   "id": "b3783d5d",
   "metadata": {},
   "outputs": [
    {
     "data": {
      "text/plain": [
       "-1.0"
      ]
     },
     "execution_count": 5,
     "metadata": {},
     "output_type": "execute_result"
    }
   ],
   "source": [
    "float(-1)"
   ]
  },
  {
   "cell_type": "code",
   "execution_count": 6,
   "id": "8f73397c",
   "metadata": {},
   "outputs": [],
   "source": [
    "#FLOAT TO İNTEGER"
   ]
  },
  {
   "cell_type": "code",
   "execution_count": 7,
   "id": "905dcf5e",
   "metadata": {},
   "outputs": [
    {
     "data": {
      "text/plain": [
       "2"
      ]
     },
     "execution_count": 7,
     "metadata": {},
     "output_type": "execute_result"
    }
   ],
   "source": [
    "a = 2.634\n",
    "int(a)"
   ]
  },
  {
   "cell_type": "code",
   "execution_count": 8,
   "id": "d667a871",
   "metadata": {},
   "outputs": [
    {
     "data": {
      "text/plain": [
       "1"
      ]
     },
     "execution_count": 8,
     "metadata": {},
     "output_type": "execute_result"
    }
   ],
   "source": [
    "a = 12\n",
    "b = 7\n",
    "int(a/b)"
   ]
  },
  {
   "cell_type": "code",
   "execution_count": 9,
   "id": "44aa10fc",
   "metadata": {},
   "outputs": [],
   "source": [
    "#NUMERIC TO STRING"
   ]
  },
  {
   "cell_type": "code",
   "execution_count": 15,
   "id": "c56c1b34",
   "metadata": {},
   "outputs": [
    {
     "data": {
      "text/plain": [
       "'1231'"
      ]
     },
     "execution_count": 15,
     "metadata": {},
     "output_type": "execute_result"
    }
   ],
   "source": [
    "a = 1231\n",
    "b = str(a)\n",
    "b"
   ]
  },
  {
   "cell_type": "code",
   "execution_count": 16,
   "id": "b0f75c4f",
   "metadata": {},
   "outputs": [
    {
     "data": {
      "text/plain": [
       "4"
      ]
     },
     "execution_count": 16,
     "metadata": {},
     "output_type": "execute_result"
    }
   ],
   "source": [
    "len(b)"
   ]
  },
  {
   "cell_type": "code",
   "execution_count": 21,
   "id": "9f1ddb7a",
   "metadata": {},
   "outputs": [],
   "source": [
    "#STRING TO INTEGER"
   ]
  },
  {
   "cell_type": "code",
   "execution_count": 22,
   "id": "a55fbedf",
   "metadata": {},
   "outputs": [
    {
     "data": {
      "text/plain": [
       "3487282352354"
      ]
     },
     "execution_count": 22,
     "metadata": {},
     "output_type": "execute_result"
    }
   ],
   "source": [
    "a = \"3487282352354\" #10'luk tabanda olmayan veriler sayıya dönüştürülemez\n",
    "int(a) "
   ]
  },
  {
   "cell_type": "code",
   "execution_count": 23,
   "id": "676b5b7e",
   "metadata": {},
   "outputs": [],
   "source": [
    "#STRING TO FLOAT"
   ]
  },
  {
   "cell_type": "code",
   "execution_count": 25,
   "id": "6d70ea9b",
   "metadata": {},
   "outputs": [
    {
     "data": {
      "text/plain": [
       "1512352315.0"
      ]
     },
     "execution_count": 25,
     "metadata": {},
     "output_type": "execute_result"
    }
   ],
   "source": [
    "a = \"1512352315\"\n",
    "float(a)"
   ]
  },
  {
   "cell_type": "code",
   "execution_count": 26,
   "id": "aadadeda",
   "metadata": {},
   "outputs": [
    {
     "data": {
      "text/plain": [
       "15.235912"
      ]
     },
     "execution_count": 26,
     "metadata": {},
     "output_type": "execute_result"
    }
   ],
   "source": [
    "a = \"15.235912\"\n",
    "float(a)"
   ]
  }
 ],
 "metadata": {
  "kernelspec": {
   "display_name": "Python 3 (ipykernel)",
   "language": "python",
   "name": "python3"
  },
  "language_info": {
   "codemirror_mode": {
    "name": "ipython",
    "version": 3
   },
   "file_extension": ".py",
   "mimetype": "text/x-python",
   "name": "python",
   "nbconvert_exporter": "python",
   "pygments_lexer": "ipython3",
   "version": "3.9.7"
  }
 },
 "nbformat": 4,
 "nbformat_minor": 5
}
