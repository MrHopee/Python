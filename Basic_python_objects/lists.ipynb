{
 "cells": [
  {
   "cell_type": "code",
   "execution_count": null,
   "id": "e6950bec",
   "metadata": {},
   "outputs": [],
   "source": [
    "                                                       #LISTS"
   ]
  },
  {
   "cell_type": "code",
   "execution_count": 2,
   "id": "a8e6473d",
   "metadata": {},
   "outputs": [
    {
     "name": "stdout",
     "output_type": "stream",
     "text": [
      "[1, 2, 4, 521, 'umut', 'ufuk', 21351]\n"
     ]
    }
   ],
   "source": [
    "liste= [1,2,4,521,\"umut\",\"ufuk\",21351] # liste değişkeni. Değişik veri tiplerinden değerleri saklayabiliyoruz.\n",
    "print(liste)"
   ]
  },
  {
   "cell_type": "code",
   "execution_count": 5,
   "id": "3351e3bc",
   "metadata": {},
   "outputs": [
    {
     "data": {
      "text/plain": [
       "[]"
      ]
     },
     "execution_count": 5,
     "metadata": {},
     "output_type": "execute_result"
    }
   ],
   "source": [
    "bos_liste= list() #bos_liste=[] olarak ta kullanılabilir.\n",
    "bos_liste"
   ]
  },
  {
   "cell_type": "code",
   "execution_count": 6,
   "id": "203bffbb",
   "metadata": {},
   "outputs": [
    {
     "data": {
      "text/plain": [
       "6"
      ]
     },
     "execution_count": 6,
     "metadata": {},
     "output_type": "execute_result"
    }
   ],
   "source": [
    "liste= [1421,1231,51,622,\"umut\",\"yağmur\"]\n",
    "len(liste)"
   ]
  },
  {
   "cell_type": "code",
   "execution_count": 8,
   "id": "48048118",
   "metadata": {},
   "outputs": [
    {
     "data": {
      "text/plain": [
       "['m', 'e', 'r', 'h', 'a', 'b', 'a', 'l', 'a', 'r']"
      ]
     },
     "execution_count": 8,
     "metadata": {},
     "output_type": "execute_result"
    }
   ],
   "source": [
    "s= \"merhabalar\" #stringler list fonksiyonu ile liste formatına dönüştürülebilir.\n",
    "liste = list(s)\n",
    "liste"
   ]
  },
  {
   "cell_type": "code",
   "execution_count": 9,
   "id": "6cf08692",
   "metadata": {},
   "outputs": [
    {
     "data": {
      "text/plain": [
       "[0, 1, 2, 3, 4, 5, 6, 7, 8, 9]"
      ]
     },
     "execution_count": 9,
     "metadata": {},
     "output_type": "execute_result"
    }
   ],
   "source": [
    "liste = [0,1,2,3,4,5,6,7,8,9]\n",
    "liste"
   ]
  },
  {
   "cell_type": "code",
   "execution_count": 14,
   "id": "ff78bf45",
   "metadata": {},
   "outputs": [
    {
     "data": {
      "text/plain": [
       "0"
      ]
     },
     "execution_count": 14,
     "metadata": {},
     "output_type": "execute_result"
    }
   ],
   "source": [
    "liste[0] #listenin 1. elemannı."
   ]
  },
  {
   "cell_type": "code",
   "execution_count": 15,
   "id": "9bc177b1",
   "metadata": {},
   "outputs": [
    {
     "data": {
      "text/plain": [
       "1"
      ]
     },
     "execution_count": 15,
     "metadata": {},
     "output_type": "execute_result"
    }
   ],
   "source": [
    "liste[1] #listenin 2. elemannı."
   ]
  },
  {
   "cell_type": "code",
   "execution_count": 16,
   "id": "e285a1bd",
   "metadata": {},
   "outputs": [
    {
     "data": {
      "text/plain": [
       "9"
      ]
     },
     "execution_count": 16,
     "metadata": {},
     "output_type": "execute_result"
    }
   ],
   "source": [
    "liste[-1] #listenin sonuncu elemannı."
   ]
  },
  {
   "cell_type": "code",
   "execution_count": 17,
   "id": "c3832401",
   "metadata": {},
   "outputs": [
    {
     "data": {
      "text/plain": [
       "[9, 8, 7, 6, 5, 4, 3, 2, 1, 0]"
      ]
     },
     "execution_count": 17,
     "metadata": {},
     "output_type": "execute_result"
    }
   ],
   "source": [
    "liste[::-1] #listeyi terstem sırala."
   ]
  },
  {
   "cell_type": "code",
   "execution_count": 19,
   "id": "72a59a68",
   "metadata": {},
   "outputs": [
    {
     "data": {
      "text/plain": [
       "[1, 2, 3, 4, 5, 6, 7, 8, 9, 10]"
      ]
     },
     "execution_count": 19,
     "metadata": {},
     "output_type": "execute_result"
    }
   ],
   "source": [
    "liste1 = [1,2,3,4,5]    #listeler toplanabilir!\n",
    "liste2 = [6,7,8,9,10]\n",
    "liste3 = liste1 + liste2\n",
    "liste3"
   ]
  },
  {
   "cell_type": "code",
   "execution_count": 21,
   "id": "669f1d5f",
   "metadata": {},
   "outputs": [
    {
     "data": {
      "text/plain": [
       "[1, 2, 3, 4, 5, 'umut']"
      ]
     },
     "execution_count": 21,
     "metadata": {},
     "output_type": "execute_result"
    }
   ],
   "source": [
    "liste1 = [1,2,3,4,5]\n",
    "liste1 = liste1 + [\"umut\"]\n",
    "liste1"
   ]
  },
  {
   "cell_type": "code",
   "execution_count": 24,
   "id": "63f18982",
   "metadata": {},
   "outputs": [
    {
     "data": {
      "text/plain": [
       "[1, 2, 3, 4, 5, ['ufuk']]"
      ]
     },
     "execution_count": 24,
     "metadata": {},
     "output_type": "execute_result"
    }
   ],
   "source": [
    "liste1[5] = [\"ufuk\"]\n",
    "liste1"
   ]
  },
  {
   "cell_type": "code",
   "execution_count": 26,
   "id": "dbe8d10c",
   "metadata": {},
   "outputs": [
    {
     "data": {
      "text/plain": [
       "[10, 20, 3, 4, 5, ['ufuk']]"
      ]
     },
     "execution_count": 26,
     "metadata": {},
     "output_type": "execute_result"
    }
   ],
   "source": [
    "liste1 [:2] = [10,20]\n",
    "liste1"
   ]
  },
  {
   "cell_type": "code",
   "execution_count": 37,
   "id": "143b7b1f",
   "metadata": {},
   "outputs": [
    {
     "data": {
      "text/plain": [
       "[1, 2, 3, 4, 'umut', 1, 2, 3, 4, 'umut', 1, 2, 3, 4, 'umut']"
      ]
     },
     "execution_count": 37,
     "metadata": {},
     "output_type": "execute_result"
    }
   ],
   "source": [
    "liste = [1,2,3,4,\"umut\"] #liste tamsayılar ile çarpılabilir\n",
    "liste * 3 "
   ]
  },
  {
   "cell_type": "code",
   "execution_count": 41,
   "id": "8c95262b",
   "metadata": {},
   "outputs": [],
   "source": [
    "                                                       #Append method"
   ]
  },
  {
   "cell_type": "code",
   "execution_count": 45,
   "id": "5a3a6663",
   "metadata": {},
   "outputs": [],
   "source": [
    "liste = [1,2,3,4,5]\n",
    "liste.append(6)\n",
    "liste\n"
   ]
  },
  {
   "cell_type": "code",
   "execution_count": 47,
   "id": "9662e2d4",
   "metadata": {},
   "outputs": [
    {
     "data": {
      "text/plain": [
       "[1, 2, 3, 4, 5, 6, 'umut', 'umut', 'umut']"
      ]
     },
     "execution_count": 47,
     "metadata": {},
     "output_type": "execute_result"
    }
   ],
   "source": [
    "liste.append(\"umut\")\n",
    "liste"
   ]
  },
  {
   "cell_type": "code",
   "execution_count": 48,
   "id": "530727df",
   "metadata": {},
   "outputs": [],
   "source": [
    "                                                       #Pop method"
   ]
  },
  {
   "cell_type": "code",
   "execution_count": 49,
   "id": "0a34fe22",
   "metadata": {},
   "outputs": [
    {
     "data": {
      "text/plain": [
       "[1, 2, 3, 4, 5]"
      ]
     },
     "execution_count": 49,
     "metadata": {},
     "output_type": "execute_result"
    }
   ],
   "source": [
    "liste = [1,2,3,4,5,6]\n",
    "liste.pop() #bir parametre yazılmazsa son eklenen sayıyı kaldırır.\n",
    "liste"
   ]
  },
  {
   "cell_type": "code",
   "execution_count": 50,
   "id": "7f4de8ca",
   "metadata": {},
   "outputs": [
    {
     "data": {
      "text/plain": [
       "[1, 2, 4, 5]"
      ]
     },
     "execution_count": 50,
     "metadata": {},
     "output_type": "execute_result"
    }
   ],
   "source": [
    "liste.pop(2) #parantezin içine sayı yazılırsa yazılan sayı listeden kaldırılır.\n",
    "liste"
   ]
  },
  {
   "cell_type": "code",
   "execution_count": 51,
   "id": "01ef7c91",
   "metadata": {},
   "outputs": [],
   "source": [
    "                                                       #Sort method"
   ]
  },
  {
   "cell_type": "code",
   "execution_count": 56,
   "id": "65b7266f",
   "metadata": {},
   "outputs": [
    {
     "data": {
      "text/plain": [
       "[3, 4, 7, 9, 11, 253]"
      ]
     },
     "execution_count": 56,
     "metadata": {},
     "output_type": "execute_result"
    }
   ],
   "source": [
    "liste = [4,7,3,9,11,253]\n",
    "liste.sort()     #bir parametre kullanılmazsa küçükten büyüğe sıralanır.\n",
    "liste"
   ]
  },
  {
   "cell_type": "code",
   "execution_count": 59,
   "id": "d06324bd",
   "metadata": {},
   "outputs": [
    {
     "data": {
      "text/plain": [
       "[253, 11, 9, 7, 4, 3]"
      ]
     },
     "execution_count": 59,
     "metadata": {},
     "output_type": "execute_result"
    }
   ],
   "source": [
    "liste.sort(reverse = True)\n",
    "liste"
   ]
  },
  {
   "cell_type": "code",
   "execution_count": 60,
   "id": "dd35478c",
   "metadata": {},
   "outputs": [],
   "source": [
    "                                                       #İç içe listeler"
   ]
  },
  {
   "cell_type": "code",
   "execution_count": 62,
   "id": "14d1bca2",
   "metadata": {},
   "outputs": [
    {
     "data": {
      "text/plain": [
       "[[1, 2, 3], [4, 5, 6]]"
      ]
     },
     "execution_count": 62,
     "metadata": {},
     "output_type": "execute_result"
    }
   ],
   "source": [
    "liste1 = [1,2,3]\n",
    "liste2 = [4,5,6]\n",
    "liste3 = [liste1, liste2]\n",
    "liste3"
   ]
  },
  {
   "cell_type": "code",
   "execution_count": 63,
   "id": "0542c5b5",
   "metadata": {},
   "outputs": [
    {
     "data": {
      "text/plain": [
       "5"
      ]
     },
     "execution_count": 63,
     "metadata": {},
     "output_type": "execute_result"
    }
   ],
   "source": [
    "liste3[1][1]"
   ]
  }
 ],
 "metadata": {
  "kernelspec": {
   "display_name": "Python 3 (ipykernel)",
   "language": "python",
   "name": "python3"
  },
  "language_info": {
   "codemirror_mode": {
    "name": "ipython",
    "version": 3
   },
   "file_extension": ".py",
   "mimetype": "text/x-python",
   "name": "python",
   "nbconvert_exporter": "python",
   "pygments_lexer": "ipython3",
   "version": "3.9.7"
  }
 },
 "nbformat": 4,
 "nbformat_minor": 5
}
