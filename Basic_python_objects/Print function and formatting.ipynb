{
 "cells": [
  {
   "cell_type": "code",
   "execution_count": 2,
   "id": "8b292463",
   "metadata": {},
   "outputs": [],
   "source": [
    "                                                    #PRINT FUNCTION"
   ]
  },
  {
   "cell_type": "code",
   "execution_count": 3,
   "id": "54589f8a",
   "metadata": {},
   "outputs": [
    {
     "name": "stdout",
     "output_type": "stream",
     "text": [
      "31\n"
     ]
    }
   ],
   "source": [
    "print(31)"
   ]
  },
  {
   "cell_type": "code",
   "execution_count": 4,
   "id": "7c8ec5ae",
   "metadata": {},
   "outputs": [
    {
     "name": "stdout",
     "output_type": "stream",
     "text": [
      "Hello world\n"
     ]
    }
   ],
   "source": [
    "print(\"Hello world\")"
   ]
  },
  {
   "cell_type": "code",
   "execution_count": 6,
   "id": "59e3dfba",
   "metadata": {},
   "outputs": [
    {
     "name": "stdout",
     "output_type": "stream",
     "text": [
      "Hello world\n"
     ]
    }
   ],
   "source": [
    "a = \"Hello \"\n",
    "b = \"world\"\n",
    "print(a+b)"
   ]
  },
  {
   "cell_type": "code",
   "execution_count": 7,
   "id": "bf79b732",
   "metadata": {},
   "outputs": [
    {
     "name": "stdout",
     "output_type": "stream",
     "text": [
      "umut 15 121 merhaba\n"
     ]
    }
   ],
   "source": [
    "print(\"umut\",15,121,\"merhaba\")"
   ]
  },
  {
   "cell_type": "code",
   "execution_count": 8,
   "id": "e1371e23",
   "metadata": {},
   "outputs": [],
   "source": [
    "                                                    #SPECİAL OPERATORS"
   ]
  },
  {
   "cell_type": "code",
   "execution_count": 10,
   "id": "79113942",
   "metadata": {},
   "outputs": [
    {
     "name": "stdout",
     "output_type": "stream",
     "text": [
      "hello\n",
      "world\n"
     ]
    }
   ],
   "source": [
    "#\\n \n",
    "print(\"hello\\nworld\")"
   ]
  },
  {
   "cell_type": "code",
   "execution_count": 12,
   "id": "8ac1c8cc",
   "metadata": {},
   "outputs": [
    {
     "name": "stdout",
     "output_type": "stream",
     "text": [
      "hello\tworld\n"
     ]
    }
   ],
   "source": [
    "#\\t\n",
    "print(\"hello\\tworld\")"
   ]
  },
  {
   "cell_type": "code",
   "execution_count": 29,
   "id": "e58a7da6",
   "metadata": {},
   "outputs": [],
   "source": [
    "                                                    #TYPE FUNCTION"
   ]
  },
  {
   "cell_type": "code",
   "execution_count": 14,
   "id": "165aac37",
   "metadata": {},
   "outputs": [
    {
     "data": {
      "text/plain": [
       "str"
      ]
     },
     "execution_count": 14,
     "metadata": {},
     "output_type": "execute_result"
    }
   ],
   "source": [
    "type(\"hello world\")"
   ]
  },
  {
   "cell_type": "code",
   "execution_count": 15,
   "id": "3ed342b5",
   "metadata": {},
   "outputs": [
    {
     "data": {
      "text/plain": [
       "int"
      ]
     },
     "execution_count": 15,
     "metadata": {},
     "output_type": "execute_result"
    }
   ],
   "source": [
    "type(31)"
   ]
  },
  {
   "cell_type": "code",
   "execution_count": 16,
   "id": "1873eb49",
   "metadata": {},
   "outputs": [
    {
     "data": {
      "text/plain": [
       "float"
      ]
     },
     "execution_count": 16,
     "metadata": {},
     "output_type": "execute_result"
    }
   ],
   "source": [
    "type(31.31)"
   ]
  },
  {
   "cell_type": "code",
   "execution_count": 22,
   "id": "91652d96",
   "metadata": {},
   "outputs": [],
   "source": [
    "                                                    #SEP PARAMETER"
   ]
  },
  {
   "cell_type": "code",
   "execution_count": 23,
   "id": "1c6854f3",
   "metadata": {},
   "outputs": [
    {
     "name": "stdout",
     "output_type": "stream",
     "text": [
      "1 2 3 4 5 6 7\n"
     ]
    }
   ],
   "source": [
    "print(1,2,3,4,5,6,7)"
   ]
  },
  {
   "cell_type": "code",
   "execution_count": 27,
   "id": "d3d40198",
   "metadata": {},
   "outputs": [
    {
     "name": "stdout",
     "output_type": "stream",
     "text": [
      "1/2/3/4/5/6/7\n"
     ]
    }
   ],
   "source": [
    "print(1,2,3,4,5,6,7, sep = \"/\") #sep parametresi ile değerlerin arasına / yerleştiriliyor."
   ]
  },
  {
   "cell_type": "code",
   "execution_count": 28,
   "id": "69ac0aba",
   "metadata": {},
   "outputs": [
    {
     "name": "stdout",
     "output_type": "stream",
     "text": [
      "umut\n",
      "bugün\n",
      "çok\n",
      "üzgün\n"
     ]
    }
   ],
   "source": [
    "print(\"umut\",\"bugün\",\"çok\",\"üzgün\",sep = \"\\n\")"
   ]
  },
  {
   "cell_type": "code",
   "execution_count": 30,
   "id": "f3dc2933",
   "metadata": {},
   "outputs": [],
   "source": [
    "                                                    #PARAMETER '*'"
   ]
  },
  {
   "cell_type": "code",
   "execution_count": 32,
   "id": "6d51dcc7",
   "metadata": {},
   "outputs": [
    {
     "name": "stdout",
     "output_type": "stream",
     "text": [
      "u m u t\n"
     ]
    }
   ],
   "source": [
    "print(*\"umut\") #yıldız parametresi karakterlerin arasına boşluk koyar."
   ]
  },
  {
   "cell_type": "code",
   "execution_count": 33,
   "id": "f6f00653",
   "metadata": {},
   "outputs": [
    {
     "name": "stdout",
     "output_type": "stream",
     "text": [
      "1 2 3 1 4 1 2 4 2 1\n"
     ]
    }
   ],
   "source": [
    "print(*\"1231412421\")"
   ]
  },
  {
   "cell_type": "code",
   "execution_count": 34,
   "id": "b9a1541f",
   "metadata": {},
   "outputs": [
    {
     "name": "stdout",
     "output_type": "stream",
     "text": [
      "P.R.O.J.E.C.T\n"
     ]
    }
   ],
   "source": [
    "print(*\"PROJECT\",sep = \".\")"
   ]
  },
  {
   "cell_type": "code",
   "execution_count": 36,
   "id": "64be98ab",
   "metadata": {},
   "outputs": [
    {
     "name": "stdout",
     "output_type": "stream",
     "text": [
      "U\n",
      "M\n",
      "U\n",
      "T\n"
     ]
    }
   ],
   "source": [
    "print(*\"UMUT\",sep = \"\\n\")"
   ]
  },
  {
   "cell_type": "code",
   "execution_count": 37,
   "id": "82512910",
   "metadata": {},
   "outputs": [],
   "source": [
    "                                                    #FORMATTING"
   ]
  },
  {
   "cell_type": "code",
   "execution_count": 39,
   "id": "b026b0f1",
   "metadata": {},
   "outputs": [
    {
     "data": {
      "text/plain": [
       "'15 16 17'"
      ]
     },
     "execution_count": 39,
     "metadata": {},
     "output_type": "execute_result"
    }
   ],
   "source": [
    "\"{} {} {}\".format(15,16,17) #süslü parantezlerin içerisine sırayla format fonksiyonundaki sayılar yerleşir."
   ]
  },
  {
   "cell_type": "code",
   "execution_count": 40,
   "id": "655cc0c3",
   "metadata": {},
   "outputs": [
    {
     "name": "stdout",
     "output_type": "stream",
     "text": [
      "7 + 5'nin toplamı 12'dır\n"
     ]
    }
   ],
   "source": [
    "print(\"{2} + {0}'nin toplamı {1}'dır\".format(5,12,7))"
   ]
  },
  {
   "cell_type": "code",
   "execution_count": 41,
   "id": "856e8d25",
   "metadata": {},
   "outputs": [
    {
     "name": "stdout",
     "output_type": "stream",
     "text": [
      "3.15 5.32 7.324\n"
     ]
    }
   ],
   "source": [
    "print(\"{:.2f} {:.2f} {:.3f}\".format(3.1463,5.324,7.324324))"
   ]
  }
 ],
 "metadata": {
  "kernelspec": {
   "display_name": "Python 3 (ipykernel)",
   "language": "python",
   "name": "python3"
  },
  "language_info": {
   "codemirror_mode": {
    "name": "ipython",
    "version": 3
   },
   "file_extension": ".py",
   "mimetype": "text/x-python",
   "name": "python",
   "nbconvert_exporter": "python",
   "pygments_lexer": "ipython3",
   "version": "3.9.7"
  }
 },
 "nbformat": 4,
 "nbformat_minor": 5
}
